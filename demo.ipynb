{
 "cells": [
  {
   "cell_type": "code",
   "execution_count": 21,
   "metadata": {},
   "outputs": [],
   "source": [
    "import streamlit as st\n",
    "import pandas as pd\n",
    "from xgboost import XGBRegressor\n",
    "from sklearn.model_selection import train_test_split\n",
    "from sklearn.metrics import mean_absolute_error\n",
    "import numpy as np"
   ]
  },
  {
   "cell_type": "code",
   "execution_count": 22,
   "metadata": {},
   "outputs": [],
   "source": [
    "df = pd.read_csv('housing.csv')"
   ]
  },
  {
   "cell_type": "code",
   "execution_count": 23,
   "metadata": {},
   "outputs": [],
   "source": [
    "if st.button('Отобразить первые пять строк'):\n",
    "    st.write(df.head())\n",
    "\n",
    "if st.button('Обучить модель'):\n",
    "    train_size = st.slider('Выберите размер обучающей выборки', 0.1, 0.9, 0.8, 0.1)\n",
    "    test_size = 1 - train_size\n",
    "\n",
    "    X_train, X_test, y_train, y_test = train_test_split(df.drop('MEDV', axis=1),\n",
    "                                                        df['MEDV'],\n",
    "                                                        test_size=test_size,\n",
    "                                                        train_size=train_size,\n",
    "                                                        random_state=2100)\n",
    "    st.write('Разделили данные и передали в обучение')\n",
    "    regr_model = XGBRegressor()\n",
    "    regr_model.fit(X_train, y_train)\n",
    "    pred = regr_model.predict(X_test)\n",
    "    st.write('Обучили модель, MAE = ' + str(mean_absolute_error(y_test, pred))) "
   ]
  },
  {
   "cell_type": "code",
   "execution_count": null,
   "metadata": {},
   "outputs": [],
   "source": []
  }
 ],
 "metadata": {
  "kernelspec": {
   "display_name": "base",
   "language": "python",
   "name": "python3"
  },
  "language_info": {
   "codemirror_mode": {
    "name": "ipython",
    "version": 3
   },
   "file_extension": ".py",
   "mimetype": "text/x-python",
   "name": "python",
   "nbconvert_exporter": "python",
   "pygments_lexer": "ipython3",
   "version": "3.9.13"
  },
  "orig_nbformat": 4
 },
 "nbformat": 4,
 "nbformat_minor": 2
}
